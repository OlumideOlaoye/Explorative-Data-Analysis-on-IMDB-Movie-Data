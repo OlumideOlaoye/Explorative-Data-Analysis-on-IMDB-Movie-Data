{
 "cells": [
  {
   "cell_type": "markdown",
   "id": "c6758d0f",
   "metadata": {},
   "source": [
    "# Explorative Data Analysis on IMDB Movie Data"
   ]
  },
  {
   "cell_type": "markdown",
   "id": "2445d20b",
   "metadata": {},
   "source": [
    "## Scenario:\n",
    "\n",
    "You're given a task as a Data Analyst to scrape data for the top 250 movies from the IMDb website and perform an Explorative Data Analysis (EDA) on the scraped data in order to answer some business questions. Some of the questions your analysis shoud answer include:\n",
    "\n",
    "* What is total number of years that movies were released?\n",
    "\n",
    "* What is the maximum number of movies released?\n",
    "\n",
    "* In what year was the maximum number of movies released?\n",
    "\n",
    "* What are the minimum and maximum rating values?\n",
    "\n",
    "* Among the top 250 movies, which move is with the highest rating, the rank, duration and the year of release?"
   ]
  },
  {
   "cell_type": "markdown",
   "id": "2024a68d",
   "metadata": {},
   "source": [
    "## Approach:\n",
    "\n",
    "I approached the task-at-hand by:\n",
    "\n",
    "* Scraping the required data using ```requests``` and ```BeautifulSoup``` packages\n",
    "\n",
    "* Saved the scraped data into an excel file\n",
    "\n",
    "* Imported the scraped data to perform some wrangling and EDA\n",
    "\n",
    "* Summarised the findings to answer the business questions"
   ]
  },
  {
   "cell_type": "markdown",
   "id": "00e52a7a",
   "metadata": {},
   "source": [
    "### 1. Importing libraries/modules/packages"
   ]
  },
  {
   "cell_type": "code",
   "execution_count": 1,
   "id": "c017914e",
   "metadata": {},
   "outputs": [],
   "source": [
    "# import packages\n",
    "import numpy as np\n",
    "import pandas as pd\n",
    "import requests\n",
    "import re\n",
    "from bs4 import BeautifulSoup\n",
    "import openpyxl\n",
    "import matplotlib.pyplot as plt\n",
    "import seaborn as sns\n",
    "%matplotlib inline"
   ]
  },
  {
   "cell_type": "markdown",
   "id": "df96a320",
   "metadata": {},
   "source": [
    "### 2. Scraping the data and saving it as an excel file"
   ]
  },
  {
   "cell_type": "code",
   "execution_count": 2,
   "id": "30119d8e",
   "metadata": {},
   "outputs": [
    {
     "name": "stdout",
     "output_type": "stream",
     "text": [
      "Rank: 1, Title: The Shawshank Redemption, Year: 1994, Duration: 2h 22m, Rating: 9.3\n",
      "Rank: 2, Title: The Godfather, Year: 1972, Duration: 2h 55m, Rating: 9.2\n",
      "Rank: 3, Title: The Dark Knight, Year: 2008, Duration: 2h 32m, Rating: 9.0\n",
      "Rank: 4, Title: The Godfather Part II, Year: 1974, Duration: 3h 22m, Rating: 9.0\n",
      "Rank: 5, Title: 12 Angry Men, Year: 1957, Duration: 1h 36m, Rating: 9.0\n",
      "Rank: 6, Title: Schindler's List, Year: 1993, Duration: 3h 15m, Rating: 9.0\n",
      "Rank: 7, Title: The Lord of the Rings: The Return of the King, Year: 2003, Duration: 3h 21m, Rating: 9.0\n",
      "Rank: 8, Title: Pulp Fiction, Year: 1994, Duration: 2h 34m, Rating: 8.9\n",
      "Rank: 9, Title: The Lord of the Rings: The Fellowship of the Ring, Year: 2001, Duration: 2h 58m, Rating: 8.8\n",
      "Rank: 10, Title: Il buono, Year: il brutto, Duration: il cattivo, Rating: 2h 41m\n",
      "Rank: 11, Title: Forrest Gump, Year: 1994, Duration: 2h 22m, Rating: 8.8\n",
      "Rank: 12, Title: Fight Club, Year: 1999, Duration: 2h 19m, Rating: 8.8\n",
      "Rank: 13, Title: The Lord of the Rings: The Two Towers, Year: 2002, Duration: 2h 59m, Rating: 8.8\n",
      "Rank: 14, Title: Inception, Year: 2010, Duration: 2h 28m, Rating: 8.8\n",
      "Rank: 15, Title: Star Wars: Episode V - The Empire Strikes Back, Year: 1980, Duration: 2h 4m, Rating: 8.7\n",
      "Rank: 16, Title: The Matrix, Year: 1999, Duration: 2h 16m, Rating: 8.7\n",
      "Rank: 17, Title: Goodfellas, Year: 1990, Duration: 2h 25m, Rating: 8.7\n",
      "Rank: 18, Title: One Flew Over the Cuckoo's Nest, Year: 1975, Duration: 2h 13m, Rating: 8.7\n",
      "Rank: 19, Title: Se7en, Year: 1995, Duration: 2h 7m, Rating: 8.6\n",
      "Rank: 20, Title: Spider-Man: Across the Spider-Verse, Year: 2023, Duration: 2h 20m, Rating: 8.7\n",
      "Rank: 21, Title: It's a Wonderful Life, Year: 1946, Duration: 2h 10m, Rating: 8.6\n",
      "Rank: 22, Title: Shichinin no samurai, Year: 1954, Duration: 3h 27m, Rating: 8.6\n",
      "Rank: 23, Title: Interstellar, Year: 2014, Duration: 2h 49m, Rating: 8.7\n",
      "Rank: 24, Title: The Silence of the Lambs, Year: 1991, Duration: 1h 58m, Rating: 8.6\n",
      "Rank: 25, Title: Saving Private Ryan, Year: 1998, Duration: 2h 49m, Rating: 8.6\n",
      "Rank: 26, Title: Cidade de Deus, Year: 2002, Duration: 2h 10m, Rating: 8.6\n",
      "Rank: 27, Title: La vita è bella, Year: 1997, Duration: 1h 56m, Rating: 8.6\n",
      "Rank: 28, Title: The Green Mile, Year: 1999, Duration: 3h 9m, Rating: 8.6\n",
      "Rank: 29, Title: Star Wars, Year: 1977, Duration: 2h 1m, Rating: 8.6\n",
      "Rank: 30, Title: Terminator 2: Judgment Day, Year: 1991, Duration: 2h 17m, Rating: 8.6\n",
      "Rank: 31, Title: Back to the Future, Year: 1985, Duration: 1h 56m, Rating: 8.5\n",
      "Rank: 32, Title: Sen to Chihiro no kamikakushi, Year: 2001, Duration: 2h 5m, Rating: 8.6\n",
      "Rank: 33, Title: The Pianist, Year: 2002, Duration: 2h 30m, Rating: 8.5\n",
      "Rank: 34, Title: Psycho, Year: 1960, Duration: 1h 49m, Rating: 8.5\n",
      "Rank: 35, Title: Gisaengchung, Year: 2019, Duration: 2h 12m, Rating: 8.5\n",
      "Rank: 36, Title: Gladiator, Year: 2000, Duration: 2h 35m, Rating: 8.5\n",
      "Rank: 37, Title: The Lion King, Year: 1994, Duration: 1h 28m, Rating: 8.5\n",
      "Rank: 38, Title: Léon, Year: 1994, Duration: 1h 50m, Rating: 8.5\n",
      "Rank: 39, Title: American History X, Year: 1998, Duration: 1h 59m, Rating: 8.5\n",
      "Rank: 40, Title: The Departed, Year: 2006, Duration: 2h 31m, Rating: 8.5\n",
      "Rank: 41, Title: Whiplash, Year: 2014, Duration: 1h 46m, Rating: 8.5\n",
      "Rank: 42, Title: The Prestige, Year: 2006, Duration: 2h 10m, Rating: 8.5\n",
      "Rank: 43, Title: The Usual Suspects, Year: 1995, Duration: 1h 46m, Rating: 8.5\n",
      "Rank: 44, Title: Hotaru no haka, Year: 1988, Duration: 1h 29m, Rating: 8.5\n",
      "Rank: 45, Title: Seppuku, Year: 1962, Duration: 2h 13m, Rating: 8.6\n",
      "Rank: 46, Title: Oppenheimer, Year: 2023, Duration: 3h, Rating: 8.5\n",
      "Rank: 47, Title: Casablanca, Year: 1942, Duration: 1h 42m, Rating: 8.5\n",
      "Rank: 48, Title: Intouchables, Year: 2011, Duration: 1h 52m, Rating: 8.5\n",
      "Rank: 49, Title: Modern Times, Year: 1936, Duration: 1h 27m, Rating: 8.5\n",
      "Rank: 50, Title: Nuovo Cinema Paradiso, Year: 1988, Duration: 2h 35m, Rating: 8.5\n",
      "Rank: 51, Title: C'era una volta il West, Year: 1968, Duration: 2h 45m, Rating: 8.5\n",
      "Rank: 52, Title: Rear Window, Year: 1954, Duration: 1h 52m, Rating: 8.5\n",
      "Rank: 53, Title: Alien, Year: 1979, Duration: 1h 57m, Rating: 8.5\n",
      "Rank: 54, Title: City Lights, Year: 1931, Duration: 1h 27m, Rating: 8.5\n",
      "Rank: 55, Title: Apocalypse Now, Year: 1979, Duration: 2h 27m, Rating: 8.4\n",
      "Rank: 56, Title: Memento, Year: 2000, Duration: 1h 53m, Rating: 8.4\n",
      "Rank: 57, Title: Django Unchained, Year: 2012, Duration: 2h 45m, Rating: 8.5\n",
      "Rank: 58, Title: Raiders of the Lost Ark, Year: 1981, Duration: 1h 55m, Rating: 8.4\n",
      "Rank: 59, Title: WALL·E, Year: 2008, Duration: 1h 38m, Rating: 8.4\n",
      "Rank: 60, Title: Das Leben der Anderen, Year: 2006, Duration: 2h 17m, Rating: 8.4\n",
      "Rank: 61, Title: Sunset Blvd., Year: 1950, Duration: 1h 50m, Rating: 8.4\n",
      "Rank: 62, Title: Paths of Glory, Year: 1957, Duration: 1h 28m, Rating: 8.4\n",
      "Rank: 63, Title: Avengers: Infinity War, Year: 2018, Duration: 2h 29m, Rating: 8.4\n",
      "Rank: 64, Title: The Shining, Year: 1980, Duration: 2h 26m, Rating: 8.4\n",
      "Rank: 65, Title: The Great Dictator, Year: 1940, Duration: 2h 5m, Rating: 8.4\n",
      "Rank: 66, Title: Witness for the Prosecution, Year: 1957, Duration: 1h 56m, Rating: 8.4\n",
      "Rank: 67, Title: Spider-Man: Into the Spider-Verse, Year: 2018, Duration: 1h 57m, Rating: 8.4\n",
      "Rank: 68, Title: Alien 2, Year: 1986, Duration: 2h 17m, Rating: 8.4\n",
      "Rank: 69, Title: Inglourious Basterds, Year: 2009, Duration: 2h 33m, Rating: 8.4\n",
      "Rank: 70, Title: The Dark Knight Rises, Year: 2012, Duration: 2h 44m, Rating: 8.4\n",
      "Rank: 71, Title: American Beauty, Year: 1999, Duration: 2h 2m, Rating: 8.3\n",
      "Rank: 72, Title: Dr. Strangelove or: How I Learned to Stop Worrying and Love the Bomb, Year: 1964, Duration: 1h 35m, Rating: 8.4\n",
      "Rank: 73, Title: Oldeuboi, Year: 2003, Duration: 2h, Rating: 8.4\n",
      "Rank: 74, Title: Coco, Year: 2017, Duration: 1h 45m, Rating: 8.4\n",
      "Rank: 75, Title: Amadeus, Year: 1984, Duration: 2h 40m, Rating: 8.4\n",
      "Rank: 76, Title: Toy Story, Year: 1995, Duration: 1h 21m, Rating: 8.3\n",
      "Rank: 77, Title: Das Boot, Year: 1981, Duration: 2h 29m, Rating:  (\n",
      "Rank: 78, Title: Braveheart, Year: 1995, Duration: 2h 58m, Rating: 8.3\n",
      "Rank: 79, Title: Avengers: Endgame, Year: 2019, Duration: 3h 1m, Rating: 8.4\n",
      "Rank: 80, Title: Joker, Year: 2019, Duration: 2h 2m, Rating: 8.4\n",
      "Rank: 81, Title: Mononoke-hime, Year: 1997, Duration: 2h 14m, Rating: 8.3\n",
      "Rank: 82, Title: Good Will Hunting, Year: 1997, Duration: 2h 6m, Rating: 8.3\n",
      "Rank: 83, Title: Once Upon a Time in America, Year: 1984, Duration: 3h 49m, Rating: 8.3\n",
      "Rank: 84, Title: Kimi no na wa., Year: 2016, Duration: 1h 46m, Rating: 8.4\n",
      "Rank: 85, Title: 3 Idiots, Year: 2009, Duration: 2h 50m, Rating: 8.4\n",
      "Rank: 86, Title: Tengoku to jigoku, Year: 1963, Duration: 2h 23m, Rating: 8.4\n",
      "Rank: 87, Title: Singin' in the Rain, Year: 1952, Duration: 1h 43m, Rating: 8.3\n",
      "Rank: 88, Title: Capharnaüm, Year: 2018, Duration: 2h 6m, Rating: 8.4\n",
      "Rank: 89, Title: Requiem for a Dream, Year: 2000, Duration: 1h 42m, Rating: 8.3\n",
      "Rank: 90, Title: Toy Story 3, Year: 2010, Duration: 1h 43m, Rating: 8.3\n",
      "Rank: 91, Title: Idi i smotri, Year: 1985, Duration: 2h 22m, Rating: 8.4\n",
      "Rank: 92, Title: Star Wars: Episode VI - Return of the Jedi, Year: 1983, Duration: 2h 11m, Rating: 8.3\n",
      "Rank: 93, Title: Eternal Sunshine of the Spotless Mind, Year: 2004, Duration: 1h 48m, Rating: 8.3\n",
      "Rank: 94, Title: 2001: A Space Odyssey, Year: 1968, Duration: 2h 29m, Rating: 8.3\n",
      "Rank: 95, Title: Jagten, Year: 2012, Duration: 1h 55m, Rating: 8.3\n",
      "Rank: 96, Title: Reservoir Dogs, Year: 1992, Duration: 1h 39m, Rating: 8.3\n",
      "Rank: 97, Title: Ikiru, Year: 1952, Duration: 2h 23m, Rating: 8.3\n",
      "Rank: 98, Title: Lawrence of Arabia, Year: 1962, Duration: 3h 38m, Rating: 8.3\n",
      "Rank: 99, Title: Citizen Kane, Year: 1941, Duration: 1h 59m, Rating: 8.3\n",
      "Rank: 100, Title: M - Eine Stadt sucht einen Mörder, Year: 1931, Duration: 1h 57m, Rating: 8.3\n",
      "Rank: 101, Title: The Apartment, Year: 1960, Duration: 2h 5m, Rating: 8.3\n",
      "Rank: 102, Title: North by Northwest, Year: 1959, Duration: 2h 16m, Rating: 8.3\n",
      "Rank: 103, Title: Vertigo, Year: 1958, Duration: 2h 8m, Rating: 8.3\n",
      "Rank: 104, Title: Double Indemnity, Year: 1944, Duration: 1h 47m, Rating: 8.3\n",
      "Rank: 105, Title: Le fabuleux destin d'Amélie Poulain, Year: 2001, Duration: 2h 2m, Rating: 8.3\n",
      "Rank: 106, Title: Scarface, Year: 1983, Duration: 2h 50m, Rating: 8.3\n",
      "Rank: 107, Title: Full Metal Jacket, Year: 1987, Duration: 1h 56m, Rating: 8.3\n",
      "Rank: 108, Title: A Clockwork Orange, Year: 1971, Duration: 2h 16m, Rating: 8.3\n",
      "Rank: 109, Title: Incendies, Year: 2010, Duration: 2h 11m, Rating: 8.3\n",
      "Rank: 110, Title: Heat, Year: 1995, Duration: 2h 50m, Rating: 8.3\n",
      "Rank: 111, Title: Up, Year: 2009, Duration: 1h 36m, Rating: 8.3\n",
      "Rank: 112, Title: Hamilton, Year: 2020, Duration: 2h 40m, Rating: 8.3\n",
      "Rank: 113, Title: To Kill a Mockingbird, Year: 1962, Duration: 2h 9m, Rating: 8.3\n",
      "Rank: 114, Title: The Sting, Year: 1973, Duration: 2h 9m, Rating: 8.3\n",
      "Rank: 115, Title: Jodaeiye Nader az Simin, Year: 2011, Duration: 2h 3m, Rating: 8.3\n",
      "Rank: 116, Title: Indiana Jones and the Last Crusade, Year: 1989, Duration: 2h 7m, Rating: 8.2\n",
      "Rank: 117, Title: Metropolis, Year: 1927, Duration: 2h 33m, Rating: 8.3\n",
      "Rank: 118, Title: Die Hard, Year: 1988, Duration: 2h 12m, Rating: 8.2\n",
      "Rank: 119, Title: Taare Zameen Par, Year: 2007, Duration: 2h 45m, Rating: 8.3\n",
      "Rank: 120, Title: Snatch, Year: 2000, Duration: 1h 44m, Rating: 8.2\n",
      "Rank: 121, Title: Ladri di biciclette, Year: 1948, Duration: 1h 29m, Rating: 8.3\n",
      "Rank: 122, Title: L.A. Confidential, Year: 1997, Duration: 2h 18m, Rating: 8.2\n"
     ]
    },
    {
     "name": "stdout",
     "output_type": "stream",
     "text": [
      "Rank: 123, Title: Taxi Driver, Year: 1976, Duration: 1h 54m, Rating: 8.2\n",
      "Rank: 124, Title: 1917, Year: 2019, Duration: 1h 59m, Rating: 8.2\n",
      "Rank: 125, Title: Der Untergang, Year: 2004, Duration: 2h 36m, Rating: 8.2\n",
      "Rank: 126, Title: Dangal, Year: 2016, Duration: 2h 41m, Rating: 8.3\n",
      "Rank: 127, Title: Per qualche dollaro in più, Year: 1965, Duration: 2h 12m, Rating: 8.2\n",
      "Rank: 128, Title: Batman Begins, Year: 2005, Duration: 2h 20m, Rating: 8.2\n",
      "Rank: 129, Title: Top Gun: Maverick, Year: 2022, Duration: 2h 10m, Rating: 8.3\n",
      "Rank: 130, Title: Some Like It Hot, Year: 1959, Duration: 2h 1m, Rating: 8.2\n",
      "Rank: 131, Title: The Kid, Year: 1921, Duration: 1h 8m, Rating: 8.2\n",
      "Rank: 132, Title: The Wolf of Wall Street, Year: 2013, Duration: 3h, Rating: 8.2\n",
      "Rank: 133, Title: The Father, Year: 2020, Duration: 1h 37m, Rating: 8.2\n",
      "Rank: 134, Title: Green Book, Year: 2018, Duration: 2h 10m, Rating: 8.2\n",
      "Rank: 135, Title: All About Eve, Year: 1950, Duration: 2h 18m, Rating: 8.2\n",
      "Rank: 136, Title: Judgment at Nuremberg, Year: 1961, Duration: 2h 59m, Rating: 8.3\n",
      "Rank: 137, Title: The Truman Show, Year: 1998, Duration: 1h 43m, Rating: 8.2\n",
      "Rank: 138, Title: There Will Be Blood, Year: 2007, Duration: 2h 38m, Rating: 8.2\n",
      "Rank: 139, Title: Casino, Year: 1995, Duration: 2h 58m, Rating: 8.2\n",
      "Rank: 140, Title: Ran, Year: 1985, Duration: 2h 40m, Rating: 8.2\n",
      "Rank: 141, Title: Shutter Island, Year: 2010, Duration: 2h 18m, Rating: 8.2\n",
      "Rank: 142, Title: El laberinto del fauno, Year: 2006, Duration: 1h 58m, Rating: 8.2\n",
      "Rank: 143, Title: The Sixth Sense, Year: 1999, Duration: 1h 47m, Rating: 8.2\n",
      "Rank: 144, Title: Unforgiven, Year: 1992, Duration: 2h 10m, Rating: 8.2\n",
      "Rank: 145, Title: Jurassic Park, Year: 1993, Duration: 2h 7m, Rating: 8.2\n",
      "Rank: 146, Title: A Beautiful Mind, Year: 2001, Duration: 2h 15m, Rating: 8.2\n",
      "Rank: 147, Title: The Treasure of the Sierra Madre, Year: 1948, Duration: 2h 6m, Rating: 8.2\n",
      "Rank: 148, Title: Yôjinbô, Year: 1961, Duration: 1h 50m, Rating: 8.2\n",
      "Rank: 149, Title: No Country for Old Men, Year: 2007, Duration: 2h 2m, Rating: 8.2\n",
      "Rank: 150, Title: Kill Bill: Vol. 1, Year: 2003, Duration: 1h 51m, Rating: 8.2\n",
      "Rank: 151, Title: Monty Python and the Holy Grail, Year: 1975, Duration: 1h 31m, Rating: 8.2\n",
      "Rank: 152, Title: The Thing, Year: 1982, Duration: 1h 49m, Rating: 8.2\n",
      "Rank: 153, Title: The Great Escape, Year: 1963, Duration: 2h 52m, Rating: 8.2\n",
      "Rank: 154, Title: Rashômon, Year: 1950, Duration: 1h 28m, Rating: 8.2\n",
      "Rank: 155, Title: Finding Nemo, Year: 2003, Duration: 1h 40m, Rating: 8.2\n",
      "Rank: 156, Title: The Elephant Man, Year: 1980, Duration: 2h 4m, Rating: 8.2\n",
      "Rank: 157, Title: Chinatown, Year: 1974, Duration: 2h 10m, Rating: 8.2\n",
      "Rank: 158, Title: Hauru no ugoku shiro, Year: 2004, Duration: 1h 59m, Rating: 8.2\n",
      "Rank: 159, Title: Dial M for Murder, Year: 1954, Duration: 1h 45m, Rating: 8.2\n",
      "Rank: 160, Title: Gone with the Wind, Year: 1939, Duration: 3h 58m, Rating: 8.2\n",
      "Rank: 161, Title: V for Vendetta, Year: 2005, Duration: 2h 12m, Rating: 8.2\n",
      "Rank: 162, Title: Raging Bull, Year: 1980, Duration: 2h 9m, Rating: 8.1\n",
      "Rank: 163, Title: Spider-Man: No Way Home, Year: 2021, Duration: 2h 28m, Rating: 8.2\n",
      "Rank: 164, Title: Lock, Year: Stock and Two Smoking Barrels, Duration: 1998, Rating: R\n",
      "Rank: 165, Title: El secreto de sus ojos, Year: 2009, Duration: 2h 9m, Rating: 8.2\n",
      "Rank: 166, Title: Prisoners, Year: 2013, Duration: 2h 33m, Rating: 8.1\n",
      "Rank: 167, Title: Inside Out, Year: 2015, Duration: 1h 35m, Rating: 8.1\n",
      "Rank: 168, Title: Three Billboards Outside Ebbing, Year: Missouri, Duration: 2017, Rating: R\n",
      "Rank: 169, Title: The Bridge on the River Kwai, Year: 1957, Duration: 2h 41m, Rating: 8.1\n",
      "Rank: 170, Title: Trainspotting, Year: 1996, Duration: 1h 33m, Rating: 8.1\n",
      "Rank: 171, Title: Fargo, Year: 1996, Duration: 1h 38m, Rating: 8.1\n",
      "Rank: 172, Title: Warrior, Year: 2011, Duration: 2h 20m, Rating: 8.1\n",
      "Rank: 173, Title: Gran Torino, Year: 2008, Duration: 1h 56m, Rating: 8.1\n",
      "Rank: 174, Title: Catch Me If You Can, Year: 2002, Duration: 2h 21m, Rating: 8.1\n",
      "Rank: 175, Title: Tonari no Totoro, Year: 1988, Duration: 1h 26m, Rating: 8.1\n",
      "Rank: 176, Title: Million Dollar Baby, Year: 2004, Duration: 2h 12m, Rating: 8.1\n",
      "Rank: 177, Title: Klaus, Year: 2019, Duration: 1h 36m, Rating: 8.2\n",
      "Rank: 178, Title: Harry Potter and the Deathly Hallows - Part 2, Year: 2011, Duration: 2h 10m, Rating: 8.1\n",
      "Rank: 179, Title: Bacheha-Ye aseman, Year: 1997, Duration: 1h 29m, Rating: 8.2\n",
      "Rank: 180, Title: Blade Runner, Year: 1982, Duration: 1h 57m, Rating: 8.1\n",
      "Rank: 181, Title: 12 Years a Slave, Year: 2013, Duration: 2h 14m, Rating: 8.1\n",
      "Rank: 182, Title: Before Sunrise, Year: 1995, Duration: 1h 41m, Rating: 8.1\n",
      "Rank: 183, Title: The Grand Budapest Hotel, Year: 2014, Duration: 1h 39m, Rating: 8.1\n",
      "Rank: 184, Title: The Gold Rush, Year: 1925, Duration: 1h 35m, Rating: 8.1\n",
      "Rank: 185, Title: Ben-Hur, Year: 1959, Duration: 3h 32m, Rating: 8.1\n",
      "Rank: 186, Title: Gone Girl, Year: 2014, Duration: 2h 29m, Rating: 8.1\n",
      "Rank: 187, Title: Barry Lyndon, Year: 1975, Duration: 3h 5m, Rating: 8.1\n",
      "Rank: 188, Title: On the Waterfront, Year: 1954, Duration: 1h 48m, Rating: 8.1\n",
      "Rank: 189, Title: Hacksaw Ridge, Year: 2016, Duration: 2h 19m, Rating: 8.1\n",
      "Rank: 190, Title: In the Name of the Father, Year: 1993, Duration: 2h 13m, Rating: 8.1\n",
      "Rank: 191, Title: Salinui chueok, Year: 2003, Duration: 2h 11m, Rating: 8.1\n",
      "Rank: 192, Title: The General, Year: 1926, Duration: 1h 18m, Rating: 8.1\n",
      "Rank: 193, Title: The Deer Hunter, Year: 1978, Duration: 3h 3m, Rating: 8.1\n",
      "Rank: 194, Title: Smultronstället, Year: 1957, Duration: 1h 31m, Rating: 8.1\n",
      "Rank: 195, Title: Le salaire de la peur, Year: 1953, Duration: 2h 11m, Rating: 8.2\n",
      "Rank: 196, Title: The Third Man, Year: 1949, Duration: 1h 44m, Rating: 8.1\n",
      "Rank: 197, Title: Relatos salvajes, Year: 2014, Duration: 2h 2m, Rating: 8.1\n",
      "Rank: 198, Title: Sherlock Jr., Year: 1924, Duration: 45m, Rating: 8.2\n",
      "Rank: 199, Title: Dead Poets Society, Year: 1989, Duration: 2h 8m, Rating: 8.1\n",
      "Rank: 200, Title: Mad Max: Fury Road, Year: 2015, Duration: 2h, Rating: 8.1\n",
      "Rank: 201, Title: Mr. Smith Goes to Washington, Year: 1939, Duration: 2h 9m, Rating: 8.1\n",
      "Rank: 202, Title: Monsters, Year: Inc., Duration: 2001, Rating: G\n",
      "Rank: 203, Title: How to Train Your Dragon, Year: 2010, Duration: 1h 38m, Rating: 8.1\n",
      "Rank: 204, Title: Jaws, Year: 1975, Duration: 2h 4m, Rating: 8.1\n",
      "Rank: 205, Title: Mary and Max., Year: 2009, Duration: 1h 32m, Rating: 8.1\n",
      "Rank: 206, Title: Det sjunde inseglet, Year: 1957, Duration: 1h 36m, Rating: 8.1\n",
      "Rank: 207, Title: Room, Year: 2015, Duration: 1h 58m, Rating: 8.1\n",
      "Rank: 208, Title: Ford v Ferrari, Year: 2019, Duration: 2h 32m, Rating: 8.1\n",
      "Rank: 209, Title: The Big Lebowski, Year: 1998, Duration: 1h 57m, Rating: 8.1\n",
      "Rank: 210, Title: Tôkyô monogatari, Year: 1953, Duration: 2h 16m, Rating: 8.1\n",
      "Rank: 211, Title: Ratatouille, Year: 2007, Duration: 1h 51m, Rating: 8.1\n",
      "Rank: 212, Title: Rocky, Year: 1976, Duration: 2h, Rating: 8.1\n",
      "Rank: 213, Title: Hotel Rwanda, Year: 2004, Duration: 2h 1m, Rating: 8.1\n",
      "Rank: 214, Title: La passion de Jeanne d'Arc, Year: 1928, Duration: 1h 50m, Rating: 8.1\n",
      "Rank: 215, Title: Logan, Year: 2017, Duration: 2h 17m, Rating: 8.1\n",
      "Rank: 216, Title: Spotlight, Year: 2015, Duration: 2h 9m, Rating: 8.1\n",
      "Rank: 217, Title: Platoon, Year: 1986, Duration: 2h, Rating: 8.1\n",
      "Rank: 218, Title: The Terminator, Year: 1984, Duration: 1h 47m, Rating: 8.1\n",
      "Rank: 219, Title: Jai Bhim, Year: 2021, Duration: 2h 44m, Rating: 8.8\n",
      "Rank: 220, Title: Before Sunset, Year: 2004, Duration: 1h 20m, Rating: 8.1\n",
      "Rank: 221, Title: Rush, Year: 2013, Duration: 2h 3m, Rating: 8.1\n",
      "Rank: 222, Title: Network, Year: 1976, Duration: 2h 1m, Rating: 8.1\n",
      "Rank: 223, Title: Stand by Me, Year: 1986, Duration: 1h 29m, Rating: 8.1\n",
      "Rank: 224, Title: The Best Years of Our Lives, Year: 1946, Duration: 2h 50m, Rating: 8.1\n",
      "Rank: 225, Title: The Exorcist, Year: 1973, Duration: 2h 2m, Rating: 8.1\n",
      "Rank: 226, Title: La haine, Year: 1995, Duration: 1h 38m, Rating: 8.1\n",
      "Rank: 227, Title: The Wizard of Oz, Year: 1939, Duration: 1h 42m, Rating: 8.1\n",
      "Rank: 228, Title: Into the Wild, Year: 2007, Duration: 2h 28m, Rating: 8.1\n",
      "Rank: 229, Title: Pirates of the Caribbean: The Curse of the Black Pearl, Year: 2003, Duration: 2h 23m, Rating: 8.1\n",
      "Rank: 230, Title: The Incredibles, Year: 2004, Duration: 1h 55m, Rating: 8.0\n",
      "Rank: 231, Title: To Be or Not to Be, Year: 1942, Duration: 1h 39m, Rating: 8.2\n",
      "Rank: 232, Title: Hachi: A Dog's Tale, Year: 2009, Duration: 1h 33m, Rating: 8.1\n"
     ]
    },
    {
     "name": "stdout",
     "output_type": "stream",
     "text": [
      "Rank: 233, Title: Ah-ga-ssi, Year: 2016, Duration: 2h 25m, Rating: 8.1\n",
      "Rank: 234, Title: Groundhog Day, Year: 1993, Duration: 1h 41m, Rating: 8.0\n",
      "Rank: 235, Title: La battaglia di Algeri, Year: 1966, Duration: 2h 1m, Rating: 8.1\n",
      "Rank: 236, Title: Babam ve Oglum, Year: 2005, Duration: 1h 52m, Rating: 8.2\n",
      "Rank: 237, Title: The Grapes of Wrath, Year: 1940, Duration: 2h 9m, Rating: 8.1\n",
      "Rank: 238, Title: Amores perros, Year: 2000, Duration: 2h 34m, Rating: 8.1\n",
      "Rank: 239, Title: Rebecca, Year: 1940, Duration: 2h 10m, Rating: 8.1\n",
      "Rank: 240, Title: The Sound of Music, Year: 1965, Duration: 2h 52m, Rating: 8.1\n",
      "Rank: 241, Title: Cool Hand Luke, Year: 1967, Duration: 2h 7m, Rating: 8.1\n",
      "Rank: 242, Title: Pather Panchali, Year: 1955, Duration: 2h 5m, Rating: 8.2\n",
      "Rank: 243, Title: It Happened One Night, Year: 1934, Duration: 1h 45m, Rating: 8.1\n",
      "Rank: 244, Title: The Iron Giant, Year: 1999, Duration: 1h 26m, Rating: 8.1\n",
      "Rank: 245, Title: The Help, Year: 2011, Duration: 2h 26m, Rating: 8.1\n",
      "Rank: 246, Title: Les quatre cents coups, Year: 1959, Duration: 1h 39m, Rating: 8.1\n",
      "Rank: 247, Title: Persona, Year: 1966, Duration: 1h 25m, Rating: 8.1\n",
      "Rank: 248, Title: Life of Brian, Year: 1979, Duration: 1h 34m, Rating: 8.0\n",
      "Rank: 249, Title: Aladdin, Year: 1992, Duration: 1h 30m, Rating: 8.0\n",
      "Rank: 250, Title: Dances with Wolves, Year: 1990, Duration: 3h 1m, Rating: 8.0\n",
      "[Errno 13] Permission denied: 'IMDB Movie Ratings.xlsx'\n"
     ]
    }
   ],
   "source": [
    "# data scrapping\n",
    "try:\n",
    "    headers = {\n",
    "        'User-Agent': 'Mozilla/5.0 (Windows NT 10.0; Win64; x64) AppleWebKit/537.36 (KHTML, like Gecko) Chrome/117.0.0.0 Safari/537.36'\n",
    "    } # to get the headers with the user agent\n",
    "    source = requests.get('https://www.imdb.com/chart/top/', headers=headers) # url source\n",
    "    source.raise_for_status() # To ascertain the url is active\n",
    "    html_pattern = r'<[^>]+>' # Use regEx to grab each movie tile by class name and then strip its content down\n",
    "\n",
    "    soup = BeautifulSoup(source.content, 'html.parser') # Parse the html content with BeautifulSoup\n",
    "    movies = soup.find_all('li', {'class':'ipc-metadata-list-summary-item sc-59b6048d-0 jemTre cli-parent'}) # Get the data on the page with find_all () function\n",
    "\n",
    "    # Creating an Excel workbook where the data will be saved\n",
    "    excel = openpyxl.Workbook()\n",
    "    sheet = excel.active \n",
    "    sheet.title = 'Top Rated Movies'\n",
    "    sheet.append(['Rank', 'Title', 'Year', 'Duration', 'Rating'])\n",
    "\n",
    "    for movie in movies:\n",
    "        children = ''.join([str(item) for item in movie.children]) # list comprehension\n",
    "        text_only = [item for item in re.sub(html_pattern, ', ', children).split(', ') if item != ''] # list comprehension\n",
    "        title = ' '.join(text_only[0].split(' ')[1:])\n",
    "        rank =  text_only[0].split(' ')[0][:-1]\n",
    "        year = text_only[1]\n",
    "        duration = text_only[2]\n",
    "        rating = text_only[4]\n",
    "        sheet.append([rank, title, year, duration, rating])\n",
    "\n",
    "        print(f\"Rank: {rank}, Title: {title}, Year: {year}, Duration: {duration}, Rating: {rating}\")\n",
    "\n",
    "    excel.save('IMDB Movie Ratings.xlsx')\n",
    "\n",
    "except Exception as e:\n",
    "    print(e)"
   ]
  },
  {
   "cell_type": "markdown",
   "id": "626eee32",
   "metadata": {},
   "source": [
    "### 3. Importing the dataset"
   ]
  },
  {
   "cell_type": "code",
   "execution_count": 3,
   "id": "27411691",
   "metadata": {},
   "outputs": [
    {
     "data": {
      "text/html": [
       "<div>\n",
       "<style scoped>\n",
       "    .dataframe tbody tr th:only-of-type {\n",
       "        vertical-align: middle;\n",
       "    }\n",
       "\n",
       "    .dataframe tbody tr th {\n",
       "        vertical-align: top;\n",
       "    }\n",
       "\n",
       "    .dataframe thead th {\n",
       "        text-align: right;\n",
       "    }\n",
       "</style>\n",
       "<table border=\"1\" class=\"dataframe\">\n",
       "  <thead>\n",
       "    <tr style=\"text-align: right;\">\n",
       "      <th></th>\n",
       "      <th>Rank</th>\n",
       "      <th>Title</th>\n",
       "      <th>Year</th>\n",
       "      <th>Duration</th>\n",
       "      <th>Rating</th>\n",
       "    </tr>\n",
       "  </thead>\n",
       "  <tbody>\n",
       "    <tr>\n",
       "      <th>0</th>\n",
       "      <td>1</td>\n",
       "      <td>The Shawshank Redemption</td>\n",
       "      <td>1994</td>\n",
       "      <td>2h 22m</td>\n",
       "      <td>9.3</td>\n",
       "    </tr>\n",
       "    <tr>\n",
       "      <th>1</th>\n",
       "      <td>2</td>\n",
       "      <td>The Godfather</td>\n",
       "      <td>1972</td>\n",
       "      <td>2h 55m</td>\n",
       "      <td>9.2</td>\n",
       "    </tr>\n",
       "    <tr>\n",
       "      <th>2</th>\n",
       "      <td>3</td>\n",
       "      <td>The Dark Knight</td>\n",
       "      <td>2008</td>\n",
       "      <td>2h 32m</td>\n",
       "      <td>9.0</td>\n",
       "    </tr>\n",
       "    <tr>\n",
       "      <th>3</th>\n",
       "      <td>4</td>\n",
       "      <td>The Godfather Part II</td>\n",
       "      <td>1974</td>\n",
       "      <td>3h 22m</td>\n",
       "      <td>9.0</td>\n",
       "    </tr>\n",
       "    <tr>\n",
       "      <th>4</th>\n",
       "      <td>5</td>\n",
       "      <td>12 Angry Men</td>\n",
       "      <td>1957</td>\n",
       "      <td>1h 36m</td>\n",
       "      <td>9.0</td>\n",
       "    </tr>\n",
       "    <tr>\n",
       "      <th>5</th>\n",
       "      <td>6</td>\n",
       "      <td>Schindler's List</td>\n",
       "      <td>1993</td>\n",
       "      <td>3h 15m</td>\n",
       "      <td>9.0</td>\n",
       "    </tr>\n",
       "    <tr>\n",
       "      <th>6</th>\n",
       "      <td>7</td>\n",
       "      <td>The Lord of the Rings: The Return of the King</td>\n",
       "      <td>2003</td>\n",
       "      <td>3h 21m</td>\n",
       "      <td>9.0</td>\n",
       "    </tr>\n",
       "    <tr>\n",
       "      <th>7</th>\n",
       "      <td>8</td>\n",
       "      <td>Pulp Fiction</td>\n",
       "      <td>1994</td>\n",
       "      <td>2h 34m</td>\n",
       "      <td>8.9</td>\n",
       "    </tr>\n",
       "    <tr>\n",
       "      <th>8</th>\n",
       "      <td>9</td>\n",
       "      <td>The Lord of the Rings: The Fellowship of the Ring</td>\n",
       "      <td>2001</td>\n",
       "      <td>2h 58m</td>\n",
       "      <td>8.8</td>\n",
       "    </tr>\n",
       "    <tr>\n",
       "      <th>9</th>\n",
       "      <td>10</td>\n",
       "      <td>Il buono</td>\n",
       "      <td>il brutto</td>\n",
       "      <td>il cattivo</td>\n",
       "      <td>2h 41m</td>\n",
       "    </tr>\n",
       "    <tr>\n",
       "      <th>10</th>\n",
       "      <td>11</td>\n",
       "      <td>Forrest Gump</td>\n",
       "      <td>1994</td>\n",
       "      <td>2h 22m</td>\n",
       "      <td>8.8</td>\n",
       "    </tr>\n",
       "    <tr>\n",
       "      <th>11</th>\n",
       "      <td>12</td>\n",
       "      <td>Fight Club</td>\n",
       "      <td>1999</td>\n",
       "      <td>2h 19m</td>\n",
       "      <td>8.8</td>\n",
       "    </tr>\n",
       "    <tr>\n",
       "      <th>12</th>\n",
       "      <td>13</td>\n",
       "      <td>The Lord of the Rings: The Two Towers</td>\n",
       "      <td>2002</td>\n",
       "      <td>2h 59m</td>\n",
       "      <td>8.8</td>\n",
       "    </tr>\n",
       "    <tr>\n",
       "      <th>13</th>\n",
       "      <td>14</td>\n",
       "      <td>Inception</td>\n",
       "      <td>2010</td>\n",
       "      <td>2h 28m</td>\n",
       "      <td>8.8</td>\n",
       "    </tr>\n",
       "    <tr>\n",
       "      <th>14</th>\n",
       "      <td>15</td>\n",
       "      <td>Star Wars: Episode V - The Empire Strikes Back</td>\n",
       "      <td>1980</td>\n",
       "      <td>2h 4m</td>\n",
       "      <td>8.7</td>\n",
       "    </tr>\n",
       "    <tr>\n",
       "      <th>15</th>\n",
       "      <td>16</td>\n",
       "      <td>The Matrix</td>\n",
       "      <td>1999</td>\n",
       "      <td>2h 16m</td>\n",
       "      <td>8.7</td>\n",
       "    </tr>\n",
       "    <tr>\n",
       "      <th>16</th>\n",
       "      <td>17</td>\n",
       "      <td>Goodfellas</td>\n",
       "      <td>1990</td>\n",
       "      <td>2h 25m</td>\n",
       "      <td>8.7</td>\n",
       "    </tr>\n",
       "    <tr>\n",
       "      <th>17</th>\n",
       "      <td>18</td>\n",
       "      <td>One Flew Over the Cuckoo's Nest</td>\n",
       "      <td>1975</td>\n",
       "      <td>2h 13m</td>\n",
       "      <td>8.7</td>\n",
       "    </tr>\n",
       "    <tr>\n",
       "      <th>18</th>\n",
       "      <td>19</td>\n",
       "      <td>Se7en</td>\n",
       "      <td>1995</td>\n",
       "      <td>2h 7m</td>\n",
       "      <td>8.6</td>\n",
       "    </tr>\n",
       "    <tr>\n",
       "      <th>19</th>\n",
       "      <td>20</td>\n",
       "      <td>Spider-Man: Across the Spider-Verse</td>\n",
       "      <td>2023</td>\n",
       "      <td>2h 20m</td>\n",
       "      <td>8.7</td>\n",
       "    </tr>\n",
       "  </tbody>\n",
       "</table>\n",
       "</div>"
      ],
      "text/plain": [
       "    Rank                                              Title       Year  \\\n",
       "0      1                           The Shawshank Redemption       1994   \n",
       "1      2                                      The Godfather       1972   \n",
       "2      3                                    The Dark Knight       2008   \n",
       "3      4                              The Godfather Part II       1974   \n",
       "4      5                                       12 Angry Men       1957   \n",
       "5      6                                   Schindler's List       1993   \n",
       "6      7      The Lord of the Rings: The Return of the King       2003   \n",
       "7      8                                       Pulp Fiction       1994   \n",
       "8      9  The Lord of the Rings: The Fellowship of the Ring       2001   \n",
       "9     10                                           Il buono  il brutto   \n",
       "10    11                                       Forrest Gump       1994   \n",
       "11    12                                         Fight Club       1999   \n",
       "12    13              The Lord of the Rings: The Two Towers       2002   \n",
       "13    14                                          Inception       2010   \n",
       "14    15     Star Wars: Episode V - The Empire Strikes Back       1980   \n",
       "15    16                                         The Matrix       1999   \n",
       "16    17                                         Goodfellas       1990   \n",
       "17    18                    One Flew Over the Cuckoo's Nest       1975   \n",
       "18    19                                              Se7en       1995   \n",
       "19    20                Spider-Man: Across the Spider-Verse       2023   \n",
       "\n",
       "      Duration  Rating  \n",
       "0       2h 22m     9.3  \n",
       "1       2h 55m     9.2  \n",
       "2       2h 32m     9.0  \n",
       "3       3h 22m     9.0  \n",
       "4       1h 36m     9.0  \n",
       "5       3h 15m     9.0  \n",
       "6       3h 21m     9.0  \n",
       "7       2h 34m     8.9  \n",
       "8       2h 58m     8.8  \n",
       "9   il cattivo  2h 41m  \n",
       "10      2h 22m     8.8  \n",
       "11      2h 19m     8.8  \n",
       "12      2h 59m     8.8  \n",
       "13      2h 28m     8.8  \n",
       "14       2h 4m     8.7  \n",
       "15      2h 16m     8.7  \n",
       "16      2h 25m     8.7  \n",
       "17      2h 13m     8.7  \n",
       "18       2h 7m     8.6  \n",
       "19      2h 20m     8.7  "
      ]
     },
     "execution_count": 3,
     "metadata": {},
     "output_type": "execute_result"
    }
   ],
   "source": [
    "# importing the data\n",
    "df = pd.read_excel('IMDB Movie Ratings.xlsx')\n",
    "# show the first 20 rows\n",
    "df.head(20)"
   ]
  },
  {
   "cell_type": "markdown",
   "id": "9540c788",
   "metadata": {},
   "source": [
    "### 4. Data Inspection"
   ]
  },
  {
   "cell_type": "code",
   "execution_count": 4,
   "id": "dde89e21",
   "metadata": {},
   "outputs": [
    {
     "name": "stdout",
     "output_type": "stream",
     "text": [
      "<class 'pandas.core.frame.DataFrame'>\n",
      "RangeIndex: 250 entries, 0 to 249\n",
      "Data columns (total 5 columns):\n",
      " #   Column    Non-Null Count  Dtype \n",
      "---  ------    --------------  ----- \n",
      " 0   Rank      250 non-null    int64 \n",
      " 1   Title     250 non-null    object\n",
      " 2   Year      250 non-null    object\n",
      " 3   Duration  250 non-null    object\n",
      " 4   Rating    250 non-null    object\n",
      "dtypes: int64(1), object(4)\n",
      "memory usage: 9.9+ KB\n"
     ]
    }
   ],
   "source": [
    "# Display info about the data\n",
    "df.info()"
   ]
  },
  {
   "cell_type": "code",
   "execution_count": 5,
   "id": "d89347fa",
   "metadata": {},
   "outputs": [
    {
     "data": {
      "text/plain": [
       "(250, 5)"
      ]
     },
     "execution_count": 5,
     "metadata": {},
     "output_type": "execute_result"
    }
   ],
   "source": [
    "# check the dimension\n",
    "df.shape"
   ]
  },
  {
   "cell_type": "code",
   "execution_count": 6,
   "id": "63f8c4c2",
   "metadata": {
    "scrolled": true
   },
   "outputs": [
    {
     "data": {
      "text/html": [
       "<div>\n",
       "<style scoped>\n",
       "    .dataframe tbody tr th:only-of-type {\n",
       "        vertical-align: middle;\n",
       "    }\n",
       "\n",
       "    .dataframe tbody tr th {\n",
       "        vertical-align: top;\n",
       "    }\n",
       "\n",
       "    .dataframe thead th {\n",
       "        text-align: right;\n",
       "    }\n",
       "</style>\n",
       "<table border=\"1\" class=\"dataframe\">\n",
       "  <thead>\n",
       "    <tr style=\"text-align: right;\">\n",
       "      <th></th>\n",
       "      <th>Rank</th>\n",
       "    </tr>\n",
       "  </thead>\n",
       "  <tbody>\n",
       "    <tr>\n",
       "      <th>count</th>\n",
       "      <td>250.000000</td>\n",
       "    </tr>\n",
       "    <tr>\n",
       "      <th>mean</th>\n",
       "      <td>125.500000</td>\n",
       "    </tr>\n",
       "    <tr>\n",
       "      <th>std</th>\n",
       "      <td>72.312977</td>\n",
       "    </tr>\n",
       "    <tr>\n",
       "      <th>min</th>\n",
       "      <td>1.000000</td>\n",
       "    </tr>\n",
       "    <tr>\n",
       "      <th>25%</th>\n",
       "      <td>63.250000</td>\n",
       "    </tr>\n",
       "    <tr>\n",
       "      <th>50%</th>\n",
       "      <td>125.500000</td>\n",
       "    </tr>\n",
       "    <tr>\n",
       "      <th>75%</th>\n",
       "      <td>187.750000</td>\n",
       "    </tr>\n",
       "    <tr>\n",
       "      <th>max</th>\n",
       "      <td>250.000000</td>\n",
       "    </tr>\n",
       "  </tbody>\n",
       "</table>\n",
       "</div>"
      ],
      "text/plain": [
       "             Rank\n",
       "count  250.000000\n",
       "mean   125.500000\n",
       "std     72.312977\n",
       "min      1.000000\n",
       "25%     63.250000\n",
       "50%    125.500000\n",
       "75%    187.750000\n",
       "max    250.000000"
      ]
     },
     "execution_count": 6,
     "metadata": {},
     "output_type": "execute_result"
    }
   ],
   "source": [
    "# descriptive statistics\n",
    "df.describe()"
   ]
  },
  {
   "cell_type": "code",
   "execution_count": 7,
   "id": "b95ded19",
   "metadata": {},
   "outputs": [
    {
     "data": {
      "text/plain": [
       "Index(['Rank', 'Title', 'Year', 'Duration', 'Rating'], dtype='object')"
      ]
     },
     "execution_count": 7,
     "metadata": {},
     "output_type": "execute_result"
    }
   ],
   "source": [
    "# List the columns\n",
    "df.columns"
   ]
  },
  {
   "cell_type": "markdown",
   "id": "c4fd8657",
   "metadata": {},
   "source": [
    "#### Notes about the data:\n",
    "\n",
    "* This data contains records of the top 250 movies on the IMDb website\n",
    "\n",
    "* It has 5 columns and 250 rows\n",
    "\n",
    "* It has 1 column of type (int64) and 4 columns of type (object)\n",
    "\n",
    "* There are no missing values in the data"
   ]
  },
  {
   "cell_type": "markdown",
   "id": "dadf6478",
   "metadata": {},
   "source": [
    "### 5. Data Cleaning"
   ]
  },
  {
   "cell_type": "code",
   "execution_count": 9,
   "id": "7f6de3b6",
   "metadata": {},
   "outputs": [
    {
     "data": {
      "text/plain": [
       "Rank         int64\n",
       "Title       object\n",
       "Year        object\n",
       "Duration    object\n",
       "Rating      object\n",
       "dtype: object"
      ]
     },
     "execution_count": 9,
     "metadata": {},
     "output_type": "execute_result"
    }
   ],
   "source": [
    "# Check data types\n",
    "df.dtypes"
   ]
  },
  {
   "cell_type": "markdown",
   "id": "8d64756a",
   "metadata": {},
   "source": [
    "* We will need to change the data type for 'Rating' from object to float"
   ]
  },
  {
   "cell_type": "code",
   "execution_count": 10,
   "id": "25720cb9",
   "metadata": {},
   "outputs": [
    {
     "data": {
      "text/plain": [
       "array(['9.3', '9.2', '9.0', '8.9', '8.8', '2h 41m', '8.7', '8.6', '8.5',\n",
       "       '8.4', '8.3', '\\xa0(', '8.2', '8.1', 'R', 'G', '8.0'], dtype=object)"
      ]
     },
     "execution_count": 10,
     "metadata": {},
     "output_type": "execute_result"
    }
   ],
   "source": [
    "# check the 'Rating' columns\n",
    "df['Rating'].unique()"
   ]
  },
  {
   "cell_type": "markdown",
   "id": "2e7fdccc",
   "metadata": {},
   "source": [
    "* There are some inconsistencies in the 'Rating' values that need cleaning "
   ]
  },
  {
   "cell_type": "code",
   "execution_count": 11,
   "id": "2564c7f1",
   "metadata": {},
   "outputs": [
    {
     "data": {
      "text/plain": [
       "array(['9.3', '9.2', '9.0', '8.9', '8.8', '8.7', '8.6', '8.5', '8.4',\n",
       "       '8.3', '8.2', '8.1', '8.0'], dtype=object)"
      ]
     },
     "execution_count": 11,
     "metadata": {},
     "output_type": "execute_result"
    }
   ],
   "source": [
    "# Drop rows where 'Rating' has the unwanted values due to lack of \n",
    "# access to the original data as at the time of project task\n",
    "# Define unwanted values\n",
    "unwanted_values = ['2h 41m', '\\xa0(', 'R', 'G']\n",
    "# Drop rows where column 'Rating' has unwanted values\n",
    "df = df[~df['Rating'].isin(unwanted_values)]\n",
    "# check\n",
    "df['Rating'].unique()"
   ]
  },
  {
   "cell_type": "code",
   "execution_count": 12,
   "id": "e3e6edfd",
   "metadata": {},
   "outputs": [
    {
     "data": {
      "text/plain": [
       "(245, 5)"
      ]
     },
     "execution_count": 12,
     "metadata": {},
     "output_type": "execute_result"
    }
   ],
   "source": [
    "# Check data dimension again\n",
    "df.shape"
   ]
  },
  {
   "cell_type": "code",
   "execution_count": 13,
   "id": "8e25b45e",
   "metadata": {},
   "outputs": [
    {
     "name": "stderr",
     "output_type": "stream",
     "text": [
      "C:\\Users\\user\\AppData\\Local\\Temp\\ipykernel_8204\\2983324522.py:2: SettingWithCopyWarning: \n",
      "A value is trying to be set on a copy of a slice from a DataFrame.\n",
      "Try using .loc[row_indexer,col_indexer] = value instead\n",
      "\n",
      "See the caveats in the documentation: https://pandas.pydata.org/pandas-docs/stable/user_guide/indexing.html#returning-a-view-versus-a-copy\n",
      "  df['Rating'] = df['Rating'].astype(float)\n"
     ]
    },
    {
     "data": {
      "text/plain": [
       "dtype('float64')"
      ]
     },
     "execution_count": 13,
     "metadata": {},
     "output_type": "execute_result"
    }
   ],
   "source": [
    "# Change 'Rating' data type to float\n",
    "df['Rating'] = df['Rating'].astype(float)\n",
    "# check\n",
    "df['Rating'].dtypes"
   ]
  },
  {
   "cell_type": "markdown",
   "id": "ceb7a76b",
   "metadata": {},
   "source": [
    "### 6. Perform Explorative Data Analysis"
   ]
  },
  {
   "cell_type": "code",
   "execution_count": 14,
   "id": "8c644a1c",
   "metadata": {},
   "outputs": [
    {
     "data": {
      "text/plain": [
       "87"
      ]
     },
     "execution_count": 14,
     "metadata": {},
     "output_type": "execute_result"
    }
   ],
   "source": [
    "# total number of released years\n",
    "df['Year'].nunique()"
   ]
  },
  {
   "cell_type": "code",
   "execution_count": 15,
   "id": "70ce27ba",
   "metadata": {},
   "outputs": [
    {
     "data": {
      "text/plain": [
       "'1921'"
      ]
     },
     "execution_count": 15,
     "metadata": {},
     "output_type": "execute_result"
    }
   ],
   "source": [
    "# miminum released year\n",
    "df['Year'].min()"
   ]
  },
  {
   "cell_type": "code",
   "execution_count": 16,
   "id": "bcd9c7df",
   "metadata": {},
   "outputs": [
    {
     "data": {
      "text/plain": [
       "'2023'"
      ]
     },
     "execution_count": 16,
     "metadata": {},
     "output_type": "execute_result"
    }
   ],
   "source": [
    "# maximum released year\n",
    "df['Year'].max()"
   ]
  },
  {
   "cell_type": "code",
   "execution_count": 17,
   "id": "abdeadf0",
   "metadata": {},
   "outputs": [
    {
     "data": {
      "text/html": [
       "<div>\n",
       "<style scoped>\n",
       "    .dataframe tbody tr th:only-of-type {\n",
       "        vertical-align: middle;\n",
       "    }\n",
       "\n",
       "    .dataframe tbody tr th {\n",
       "        vertical-align: top;\n",
       "    }\n",
       "\n",
       "    .dataframe thead th {\n",
       "        text-align: right;\n",
       "    }\n",
       "</style>\n",
       "<table border=\"1\" class=\"dataframe\">\n",
       "  <thead>\n",
       "    <tr style=\"text-align: right;\">\n",
       "      <th></th>\n",
       "      <th>Year</th>\n",
       "      <th>Title</th>\n",
       "    </tr>\n",
       "  </thead>\n",
       "  <tbody>\n",
       "    <tr>\n",
       "      <th>0</th>\n",
       "      <td>1921</td>\n",
       "      <td>1</td>\n",
       "    </tr>\n",
       "    <tr>\n",
       "      <th>1</th>\n",
       "      <td>1924</td>\n",
       "      <td>1</td>\n",
       "    </tr>\n",
       "    <tr>\n",
       "      <th>2</th>\n",
       "      <td>1925</td>\n",
       "      <td>1</td>\n",
       "    </tr>\n",
       "    <tr>\n",
       "      <th>3</th>\n",
       "      <td>1926</td>\n",
       "      <td>1</td>\n",
       "    </tr>\n",
       "    <tr>\n",
       "      <th>4</th>\n",
       "      <td>1927</td>\n",
       "      <td>1</td>\n",
       "    </tr>\n",
       "    <tr>\n",
       "      <th>5</th>\n",
       "      <td>1928</td>\n",
       "      <td>1</td>\n",
       "    </tr>\n",
       "    <tr>\n",
       "      <th>6</th>\n",
       "      <td>1931</td>\n",
       "      <td>2</td>\n",
       "    </tr>\n",
       "    <tr>\n",
       "      <th>7</th>\n",
       "      <td>1934</td>\n",
       "      <td>1</td>\n",
       "    </tr>\n",
       "    <tr>\n",
       "      <th>8</th>\n",
       "      <td>1936</td>\n",
       "      <td>1</td>\n",
       "    </tr>\n",
       "    <tr>\n",
       "      <th>9</th>\n",
       "      <td>1939</td>\n",
       "      <td>3</td>\n",
       "    </tr>\n",
       "  </tbody>\n",
       "</table>\n",
       "</div>"
      ],
      "text/plain": [
       "   Year  Title\n",
       "0  1921      1\n",
       "1  1924      1\n",
       "2  1925      1\n",
       "3  1926      1\n",
       "4  1927      1\n",
       "5  1928      1\n",
       "6  1931      2\n",
       "7  1934      1\n",
       "8  1936      1\n",
       "9  1939      3"
      ]
     },
     "execution_count": 17,
     "metadata": {},
     "output_type": "execute_result"
    }
   ],
   "source": [
    "# return the number of movies released per each year\n",
    "movies_per_released_year = pd.DataFrame(df.groupby(['Year'])['Title'].count())\n",
    "# Reset index\n",
    "movies_per_released_year.reset_index(inplace=True)\n",
    "# Show the first 10 rows\n",
    "movies_per_released_year.head(10)"
   ]
  },
  {
   "cell_type": "code",
   "execution_count": 18,
   "id": "b556a19b",
   "metadata": {},
   "outputs": [
    {
     "data": {
      "text/plain": [
       "8"
      ]
     },
     "execution_count": 18,
     "metadata": {},
     "output_type": "execute_result"
    }
   ],
   "source": [
    "# What is the maximum number of movies released?\n",
    "movies_per_released_year['Title'].max()"
   ]
  },
  {
   "cell_type": "code",
   "execution_count": 19,
   "id": "ed831239",
   "metadata": {},
   "outputs": [
    {
     "data": {
      "text/plain": [
       "array([1, 2, 3, 4, 6, 5, 8, 7], dtype=int64)"
      ]
     },
     "execution_count": 19,
     "metadata": {},
     "output_type": "execute_result"
    }
   ],
   "source": [
    "# Distinct number of movies released\n",
    "movies_per_released_year['Title'].unique()"
   ]
  },
  {
   "cell_type": "code",
   "execution_count": 20,
   "id": "45e4a95d",
   "metadata": {},
   "outputs": [
    {
     "data": {
      "text/html": [
       "<div>\n",
       "<style scoped>\n",
       "    .dataframe tbody tr th:only-of-type {\n",
       "        vertical-align: middle;\n",
       "    }\n",
       "\n",
       "    .dataframe tbody tr th {\n",
       "        vertical-align: top;\n",
       "    }\n",
       "\n",
       "    .dataframe thead th {\n",
       "        text-align: right;\n",
       "    }\n",
       "</style>\n",
       "<table border=\"1\" class=\"dataframe\">\n",
       "  <thead>\n",
       "    <tr style=\"text-align: right;\">\n",
       "      <th></th>\n",
       "      <th>Year</th>\n",
       "      <th>Title</th>\n",
       "    </tr>\n",
       "  </thead>\n",
       "  <tbody>\n",
       "    <tr>\n",
       "      <th>58</th>\n",
       "      <td>1995</td>\n",
       "      <td>8</td>\n",
       "    </tr>\n",
       "  </tbody>\n",
       "</table>\n",
       "</div>"
      ],
      "text/plain": [
       "    Year  Title\n",
       "58  1995      8"
      ]
     },
     "execution_count": 20,
     "metadata": {},
     "output_type": "execute_result"
    }
   ],
   "source": [
    "# In what year was the maximum number of movies released\n",
    "movies_per_released_year[movies_per_released_year['Title']==8]"
   ]
  },
  {
   "cell_type": "code",
   "execution_count": 21,
   "id": "c6b3791e",
   "metadata": {},
   "outputs": [
    {
     "data": {
      "text/html": [
       "<div>\n",
       "<style scoped>\n",
       "    .dataframe tbody tr th:only-of-type {\n",
       "        vertical-align: middle;\n",
       "    }\n",
       "\n",
       "    .dataframe tbody tr th {\n",
       "        vertical-align: top;\n",
       "    }\n",
       "\n",
       "    .dataframe thead th {\n",
       "        text-align: right;\n",
       "    }\n",
       "</style>\n",
       "<table border=\"1\" class=\"dataframe\">\n",
       "  <thead>\n",
       "    <tr style=\"text-align: right;\">\n",
       "      <th></th>\n",
       "      <th>Rank</th>\n",
       "      <th>Title</th>\n",
       "      <th>Year</th>\n",
       "      <th>Duration</th>\n",
       "      <th>Rating</th>\n",
       "    </tr>\n",
       "  </thead>\n",
       "  <tbody>\n",
       "    <tr>\n",
       "      <th>18</th>\n",
       "      <td>19</td>\n",
       "      <td>Se7en</td>\n",
       "      <td>1995</td>\n",
       "      <td>2h 7m</td>\n",
       "      <td>8.6</td>\n",
       "    </tr>\n",
       "    <tr>\n",
       "      <th>42</th>\n",
       "      <td>43</td>\n",
       "      <td>The Usual Suspects</td>\n",
       "      <td>1995</td>\n",
       "      <td>1h 46m</td>\n",
       "      <td>8.5</td>\n",
       "    </tr>\n",
       "    <tr>\n",
       "      <th>75</th>\n",
       "      <td>76</td>\n",
       "      <td>Toy Story</td>\n",
       "      <td>1995</td>\n",
       "      <td>1h 21m</td>\n",
       "      <td>8.3</td>\n",
       "    </tr>\n",
       "    <tr>\n",
       "      <th>77</th>\n",
       "      <td>78</td>\n",
       "      <td>Braveheart</td>\n",
       "      <td>1995</td>\n",
       "      <td>2h 58m</td>\n",
       "      <td>8.3</td>\n",
       "    </tr>\n",
       "    <tr>\n",
       "      <th>109</th>\n",
       "      <td>110</td>\n",
       "      <td>Heat</td>\n",
       "      <td>1995</td>\n",
       "      <td>2h 50m</td>\n",
       "      <td>8.3</td>\n",
       "    </tr>\n",
       "    <tr>\n",
       "      <th>138</th>\n",
       "      <td>139</td>\n",
       "      <td>Casino</td>\n",
       "      <td>1995</td>\n",
       "      <td>2h 58m</td>\n",
       "      <td>8.2</td>\n",
       "    </tr>\n",
       "    <tr>\n",
       "      <th>181</th>\n",
       "      <td>182</td>\n",
       "      <td>Before Sunrise</td>\n",
       "      <td>1995</td>\n",
       "      <td>1h 41m</td>\n",
       "      <td>8.1</td>\n",
       "    </tr>\n",
       "    <tr>\n",
       "      <th>225</th>\n",
       "      <td>226</td>\n",
       "      <td>La haine</td>\n",
       "      <td>1995</td>\n",
       "      <td>1h 38m</td>\n",
       "      <td>8.1</td>\n",
       "    </tr>\n",
       "  </tbody>\n",
       "</table>\n",
       "</div>"
      ],
      "text/plain": [
       "     Rank               Title  Year Duration  Rating\n",
       "18     19               Se7en  1995    2h 7m     8.6\n",
       "42     43  The Usual Suspects  1995   1h 46m     8.5\n",
       "75     76           Toy Story  1995   1h 21m     8.3\n",
       "77     78          Braveheart  1995   2h 58m     8.3\n",
       "109   110                Heat  1995   2h 50m     8.3\n",
       "138   139              Casino  1995   2h 58m     8.2\n",
       "181   182      Before Sunrise  1995   1h 41m     8.1\n",
       "225   226            La haine  1995   1h 38m     8.1"
      ]
     },
     "execution_count": 21,
     "metadata": {},
     "output_type": "execute_result"
    }
   ],
   "source": [
    "# Filtering top 250 movies by year\n",
    "df_1995 = df[df['Year']=='1995']\n",
    "df_1995"
   ]
  },
  {
   "cell_type": "code",
   "execution_count": 23,
   "id": "432e26f1",
   "metadata": {},
   "outputs": [
    {
     "name": "stdout",
     "output_type": "stream",
     "text": [
      "Min Rating:  8.0\n",
      "Max Rating:  9.3\n"
     ]
    }
   ],
   "source": [
    "# Get the minimum and maximum Rating values\n",
    "print('Min Rating: ', df['Rating'].min())\n",
    "print('Max Rating: ', df['Rating'].max())"
   ]
  },
  {
   "cell_type": "code",
   "execution_count": 24,
   "id": "5d58f877",
   "metadata": {},
   "outputs": [
    {
     "data": {
      "text/plain": [
       "(245, 5)"
      ]
     },
     "execution_count": 24,
     "metadata": {},
     "output_type": "execute_result"
    }
   ],
   "source": [
    "df.shape"
   ]
  },
  {
   "cell_type": "code",
   "execution_count": 25,
   "id": "ee688eb8",
   "metadata": {},
   "outputs": [
    {
     "data": {
      "text/html": [
       "<div>\n",
       "<style scoped>\n",
       "    .dataframe tbody tr th:only-of-type {\n",
       "        vertical-align: middle;\n",
       "    }\n",
       "\n",
       "    .dataframe tbody tr th {\n",
       "        vertical-align: top;\n",
       "    }\n",
       "\n",
       "    .dataframe thead th {\n",
       "        text-align: right;\n",
       "    }\n",
       "</style>\n",
       "<table border=\"1\" class=\"dataframe\">\n",
       "  <thead>\n",
       "    <tr style=\"text-align: right;\">\n",
       "      <th></th>\n",
       "      <th>Rank</th>\n",
       "      <th>Title</th>\n",
       "      <th>Year</th>\n",
       "      <th>Duration</th>\n",
       "      <th>Rating</th>\n",
       "    </tr>\n",
       "  </thead>\n",
       "  <tbody>\n",
       "    <tr>\n",
       "      <th>229</th>\n",
       "      <td>230</td>\n",
       "      <td>The Incredibles</td>\n",
       "      <td>2004</td>\n",
       "      <td>1h 55m</td>\n",
       "      <td>8.0</td>\n",
       "    </tr>\n",
       "    <tr>\n",
       "      <th>233</th>\n",
       "      <td>234</td>\n",
       "      <td>Groundhog Day</td>\n",
       "      <td>1993</td>\n",
       "      <td>1h 41m</td>\n",
       "      <td>8.0</td>\n",
       "    </tr>\n",
       "    <tr>\n",
       "      <th>247</th>\n",
       "      <td>248</td>\n",
       "      <td>Life of Brian</td>\n",
       "      <td>1979</td>\n",
       "      <td>1h 34m</td>\n",
       "      <td>8.0</td>\n",
       "    </tr>\n",
       "    <tr>\n",
       "      <th>248</th>\n",
       "      <td>249</td>\n",
       "      <td>Aladdin</td>\n",
       "      <td>1992</td>\n",
       "      <td>1h 30m</td>\n",
       "      <td>8.0</td>\n",
       "    </tr>\n",
       "    <tr>\n",
       "      <th>249</th>\n",
       "      <td>250</td>\n",
       "      <td>Dances with Wolves</td>\n",
       "      <td>1990</td>\n",
       "      <td>3h 1m</td>\n",
       "      <td>8.0</td>\n",
       "    </tr>\n",
       "  </tbody>\n",
       "</table>\n",
       "</div>"
      ],
      "text/plain": [
       "     Rank               Title  Year Duration  Rating\n",
       "229   230     The Incredibles  2004   1h 55m     8.0\n",
       "233   234       Groundhog Day  1993   1h 41m     8.0\n",
       "247   248       Life of Brian  1979   1h 34m     8.0\n",
       "248   249             Aladdin  1992   1h 30m     8.0\n",
       "249   250  Dances with Wolves  1990    3h 1m     8.0"
      ]
     },
     "execution_count": 25,
     "metadata": {},
     "output_type": "execute_result"
    }
   ],
   "source": [
    "# Top 250 movies with the lowest rating, their ranks, durations and the year of release\n",
    "df[df['Rating']==8.0]"
   ]
  },
  {
   "cell_type": "code",
   "execution_count": 26,
   "id": "489d6180",
   "metadata": {},
   "outputs": [
    {
     "data": {
      "text/html": [
       "<div>\n",
       "<style scoped>\n",
       "    .dataframe tbody tr th:only-of-type {\n",
       "        vertical-align: middle;\n",
       "    }\n",
       "\n",
       "    .dataframe tbody tr th {\n",
       "        vertical-align: top;\n",
       "    }\n",
       "\n",
       "    .dataframe thead th {\n",
       "        text-align: right;\n",
       "    }\n",
       "</style>\n",
       "<table border=\"1\" class=\"dataframe\">\n",
       "  <thead>\n",
       "    <tr style=\"text-align: right;\">\n",
       "      <th></th>\n",
       "      <th>Rank</th>\n",
       "      <th>Title</th>\n",
       "      <th>Year</th>\n",
       "      <th>Duration</th>\n",
       "      <th>Rating</th>\n",
       "    </tr>\n",
       "  </thead>\n",
       "  <tbody>\n",
       "    <tr>\n",
       "      <th>0</th>\n",
       "      <td>1</td>\n",
       "      <td>The Shawshank Redemption</td>\n",
       "      <td>1994</td>\n",
       "      <td>2h 22m</td>\n",
       "      <td>9.3</td>\n",
       "    </tr>\n",
       "  </tbody>\n",
       "</table>\n",
       "</div>"
      ],
      "text/plain": [
       "   Rank                     Title  Year Duration  Rating\n",
       "0     1  The Shawshank Redemption  1994   2h 22m     9.3"
      ]
     },
     "execution_count": 26,
     "metadata": {},
     "output_type": "execute_result"
    }
   ],
   "source": [
    " # Top 250 movies with the highest rating, their ranks, durations and the year of release\n",
    "df[df['Rating']==9.3]"
   ]
  },
  {
   "cell_type": "code",
   "execution_count": 27,
   "id": "209d9625",
   "metadata": {},
   "outputs": [
    {
     "data": {
      "text/html": [
       "<div>\n",
       "<style scoped>\n",
       "    .dataframe tbody tr th:only-of-type {\n",
       "        vertical-align: middle;\n",
       "    }\n",
       "\n",
       "    .dataframe tbody tr th {\n",
       "        vertical-align: top;\n",
       "    }\n",
       "\n",
       "    .dataframe thead th {\n",
       "        text-align: right;\n",
       "    }\n",
       "</style>\n",
       "<table border=\"1\" class=\"dataframe\">\n",
       "  <thead>\n",
       "    <tr style=\"text-align: right;\">\n",
       "      <th></th>\n",
       "      <th>Rank</th>\n",
       "      <th>Title</th>\n",
       "      <th>Year</th>\n",
       "      <th>Duration</th>\n",
       "      <th>Rating</th>\n",
       "    </tr>\n",
       "  </thead>\n",
       "  <tbody>\n",
       "    <tr>\n",
       "      <th>0</th>\n",
       "      <td>1</td>\n",
       "      <td>The Shawshank Redemption</td>\n",
       "      <td>1994</td>\n",
       "      <td>2h 22m</td>\n",
       "      <td>9.3</td>\n",
       "    </tr>\n",
       "    <tr>\n",
       "      <th>1</th>\n",
       "      <td>2</td>\n",
       "      <td>The Godfather</td>\n",
       "      <td>1972</td>\n",
       "      <td>2h 55m</td>\n",
       "      <td>9.2</td>\n",
       "    </tr>\n",
       "    <tr>\n",
       "      <th>2</th>\n",
       "      <td>3</td>\n",
       "      <td>The Dark Knight</td>\n",
       "      <td>2008</td>\n",
       "      <td>2h 32m</td>\n",
       "      <td>9.0</td>\n",
       "    </tr>\n",
       "    <tr>\n",
       "      <th>3</th>\n",
       "      <td>4</td>\n",
       "      <td>The Godfather Part II</td>\n",
       "      <td>1974</td>\n",
       "      <td>3h 22m</td>\n",
       "      <td>9.0</td>\n",
       "    </tr>\n",
       "    <tr>\n",
       "      <th>4</th>\n",
       "      <td>5</td>\n",
       "      <td>12 Angry Men</td>\n",
       "      <td>1957</td>\n",
       "      <td>1h 36m</td>\n",
       "      <td>9.0</td>\n",
       "    </tr>\n",
       "    <tr>\n",
       "      <th>...</th>\n",
       "      <td>...</td>\n",
       "      <td>...</td>\n",
       "      <td>...</td>\n",
       "      <td>...</td>\n",
       "      <td>...</td>\n",
       "    </tr>\n",
       "    <tr>\n",
       "      <th>245</th>\n",
       "      <td>246</td>\n",
       "      <td>Les quatre cents coups</td>\n",
       "      <td>1959</td>\n",
       "      <td>1h 39m</td>\n",
       "      <td>8.1</td>\n",
       "    </tr>\n",
       "    <tr>\n",
       "      <th>246</th>\n",
       "      <td>247</td>\n",
       "      <td>Persona</td>\n",
       "      <td>1966</td>\n",
       "      <td>1h 25m</td>\n",
       "      <td>8.1</td>\n",
       "    </tr>\n",
       "    <tr>\n",
       "      <th>247</th>\n",
       "      <td>248</td>\n",
       "      <td>Life of Brian</td>\n",
       "      <td>1979</td>\n",
       "      <td>1h 34m</td>\n",
       "      <td>8.0</td>\n",
       "    </tr>\n",
       "    <tr>\n",
       "      <th>248</th>\n",
       "      <td>249</td>\n",
       "      <td>Aladdin</td>\n",
       "      <td>1992</td>\n",
       "      <td>1h 30m</td>\n",
       "      <td>8.0</td>\n",
       "    </tr>\n",
       "    <tr>\n",
       "      <th>249</th>\n",
       "      <td>250</td>\n",
       "      <td>Dances with Wolves</td>\n",
       "      <td>1990</td>\n",
       "      <td>3h 1m</td>\n",
       "      <td>8.0</td>\n",
       "    </tr>\n",
       "  </tbody>\n",
       "</table>\n",
       "<p>245 rows × 5 columns</p>\n",
       "</div>"
      ],
      "text/plain": [
       "     Rank                     Title  Year Duration  Rating\n",
       "0       1  The Shawshank Redemption  1994   2h 22m     9.3\n",
       "1       2             The Godfather  1972   2h 55m     9.2\n",
       "2       3           The Dark Knight  2008   2h 32m     9.0\n",
       "3       4     The Godfather Part II  1974   3h 22m     9.0\n",
       "4       5              12 Angry Men  1957   1h 36m     9.0\n",
       "..    ...                       ...   ...      ...     ...\n",
       "245   246    Les quatre cents coups  1959   1h 39m     8.1\n",
       "246   247                   Persona  1966   1h 25m     8.1\n",
       "247   248             Life of Brian  1979   1h 34m     8.0\n",
       "248   249                   Aladdin  1992   1h 30m     8.0\n",
       "249   250        Dances with Wolves  1990    3h 1m     8.0\n",
       "\n",
       "[245 rows x 5 columns]"
      ]
     },
     "execution_count": 27,
     "metadata": {},
     "output_type": "execute_result"
    }
   ],
   "source": [
    "# Sort the movies by their rank \n",
    "df.sort_values(by='Rank')"
   ]
  },
  {
   "cell_type": "markdown",
   "id": "2e49643f",
   "metadata": {},
   "source": [
    "### 6. Summary\n",
    "\n",
    "1. There are 87 years altogether, from 1921 to 2023\n",
    "\n",
    "2. From the top 250 movies data, the highest number of movies released is 8, in the year 1995\n",
    "\n",
    "3. Ratings ranged from 8.0 to 9.3\n",
    "\n",
    "4. 5 movies were rated 8.0, while 1 movie was rated 9.3 (The Shawshank Redemption 1994)\n",
    "\n",
    "5. By ranking, 'The Shawshank Redemption' is ranked first, while 'Dances with Wolves' is ranked 250th"
   ]
  }
 ],
 "metadata": {
  "kernelspec": {
   "display_name": "Python 3 (ipykernel)",
   "language": "python",
   "name": "python3"
  },
  "language_info": {
   "codemirror_mode": {
    "name": "ipython",
    "version": 3
   },
   "file_extension": ".py",
   "mimetype": "text/x-python",
   "name": "python",
   "nbconvert_exporter": "python",
   "pygments_lexer": "ipython3",
   "version": "3.9.15"
  }
 },
 "nbformat": 4,
 "nbformat_minor": 5
}
